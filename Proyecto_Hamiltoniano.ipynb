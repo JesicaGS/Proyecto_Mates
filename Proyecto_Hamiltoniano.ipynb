{
 "cells": [
  {
   "cell_type": "markdown",
   "metadata": {},
   "source": [
    "<center><span style=\"font-size: 60px;\">Ciclo Hamiltoniano</span><center>"
   ]
  },
  {
   "cell_type": "markdown",
   "metadata": {},
   "source": [
    "Se verá un ciclo hamiltoniano aleatorio en una cuadrícula utilizando la biblioteca Pygame en Python. El ciclo hamiltoniano se genera utilizando el algoritmo de Prim para encontrar un árbol de expansión mínima y luego un algoritmo simple para encontrar el ciclo.\n",
    "\n",
    "**El algoritmo de Prim es un algoritmo clásico de teoría de grafos utilizado para encontrar el árbol de expansión mínima en un grafo conexo y no dirigido(aquel en el que todos los vértices están conectados entre sí y las aristas no tienen una dirección específica). El objetivo del algoritmo es encontrar un subconjunto de aristas que conecten todos los vértices del grafo y que tengan el menor peso posible.**"
   ]
  },
  {
   "cell_type": "markdown",
   "metadata": {},
   "source": [
    "<img src=\"camino.png\" alt=\"Proyecto\" style=\"width: 1300px;; display: block; margin: 0 auto;\"/>"
   ]
  },
  {
   "cell_type": "markdown",
   "metadata": {},
   "source": [
    "## ¿Qué es un Ciclo Hamiltoniano?\n",
    "Camino cerrado que visita cada vértice exactamente una vez y regresa al vértice de partida sin repetir aristas. Es un ciclo que pasa por todos los vértices de un grafo exactamente una vez.\n",
    "\n",
    "## Implementaciones de un Ciclo Hamiltoniano\n",
    " - Circuitos en redes: En aplicaciones de redes y telecomunicaciones, los ciclos Hamiltonianos pueden representar rutas o circuitos que deben pasar por todas las ubicaciones (vértices) de manera eficiente.\n",
    "- Optimización de rutas: En problemas de logística y transporte, encontrar ciclos Hamiltonianos puede ayudar a optimizar rutas de entrega o recolección.\n",
    "- Secuenciación de ADN: En bioinformática, encontrar ciclos Hamiltonianos en grafos que representan secuencias de ADN puede ayudar a identificar estructuras genéticas importantes."
   ]
  },
  {
   "cell_type": "markdown",
   "metadata": {},
   "source": [
    "## Importación de Bibliotecas\n",
    "\n",
    "Aquí importamos las bibliotecas necesarias, \"pygame\" se utiliza para la visualización gráfica y \"random\" para generar aristas aleatorias en la cuadrícula."
   ]
  },
  {
   "cell_type": "code",
   "execution_count": 1,
   "metadata": {},
   "outputs": [
    {
     "name": "stdout",
     "output_type": "stream",
     "text": [
      "pygame 2.5.2 (SDL 2.28.3, Python 3.12.2)\n",
      "Hello from the pygame community. https://www.pygame.org/contribute.html\n"
     ]
    }
   ],
   "source": [
    "import pygame\n",
    "import random\n",
    "import sys"
   ]
  },
  {
   "cell_type": "markdown",
   "metadata": {},
   "source": [
    "## Inicialización de Pygame\n",
    "\n",
    "Se inicializa Pygame para configurar la ventana y los elementos gráficos."
   ]
  },
  {
   "cell_type": "code",
   "execution_count": 2,
   "metadata": {},
   "outputs": [],
   "source": [
    "pygame.font.init()"
   ]
  },
  {
   "cell_type": "markdown",
   "metadata": {},
   "source": [
    "## Definimos constantes y colores\n",
    "\n",
    "Se definen constantes como el tamaño de la cuadrícula, el tamaño de cada bloque en la cuadrícula, y el tamaño de la ventana de Pygame. También definimos los colores utilizados para el fondo, el ciclo, la cuadrícula y los bordes, también la ventana de visualización."
   ]
  },
  {
   "cell_type": "code",
   "execution_count": 3,
   "metadata": {},
   "outputs": [],
   "source": [
    "X, Y = 50, 28\n",
    "MITAD_X = X//2\n",
    "MITAD_Y = Y//2\n",
    "TAMAÑO_BLOQUE = 32\n",
    "ANCHO, ALTURA = X * TAMAÑO_BLOQUE, Y * TAMAÑO_BLOQUE\n",
    "VEN = pygame.display.set_mode((ANCHO, ALTURA)) \n",
    "\n",
    "FONT = pygame.font.SysFont(\"consolas\", 20)\n",
    "\n",
    "COLOR_FONDO = (255, 223, 240)     # BG COLOR\n",
    "COLOR_TEXTO = (255, 255, 255)     # TexT\n",
    "COLOR_ROJO = (255, 105, 180)      # RED\n",
    "COLOR_NODO = (255, 182, 193)      # NODE\n",
    "COLOR_CUADRICULA = (255, 192, 203)# Rosa pastel para la cuadrícula\n",
    "\n",
    "FPS = 40\n",
    "\n",
    "reloj = pygame.time.Clock()"
   ]
  },
  {
   "cell_type": "markdown",
   "metadata": {},
   "source": [
    "## Definición de la clase Nodo\n",
    "\n",
    "La clase \"Nodo\" se utiliza para representar cada nodo en la cuadrícula. Cada nodo tiene una posición (\"pos\") y un número único (\"numero\")."
   ]
  },
  {
   "cell_type": "code",
   "execution_count": 4,
   "metadata": {},
   "outputs": [],
   "source": [
    "class Nodo():\n",
    "    def __init__(self, pos, numero):\n",
    "        self.pos = pos\n",
    "        self.numero = numero\n",
    "\n",
    "    def obtener_pos(self):\n",
    "        return self.pos\n",
    "\n",
    "    def obtener_numero(self):\n",
    "        return self.numero"
   ]
  },
  {
   "cell_type": "markdown",
   "metadata": {},
   "source": [
    "## Función para dibujar la cuadrícula\n",
    "\n",
    "Esta función \"dibujar_cuadricula()\" dibuja las líneas de la cuadrícula en la ventana de Pygame."
   ]
  },
  {
   "cell_type": "code",
   "execution_count": 5,
   "metadata": {},
   "outputs": [],
   "source": [
    "def dibujar_cuadricula():\n",
    "    for x in range(1, X):\n",
    "        pygame.draw.line(VEN, COLOR_CUADRICULA, [x * TAMAÑO_BLOQUE, 0], [x * TAMAÑO_BLOQUE, Y * TAMAÑO_BLOQUE])\n",
    "    for y in range(1, Y):\n",
    "        pygame.draw.line(VEN, COLOR_CUADRICULA, [0, y * TAMAÑO_BLOQUE], [X * TAMAÑO_BLOQUE, y * TAMAÑO_BLOQUE])"
   ]
  },
  {
   "cell_type": "markdown",
   "metadata": {},
   "source": [
    "## Función para dibujar la ventana completa\n",
    "\n",
    "La función \"dibujar_ventana()\" se encarga de dibujar todos los elementos en la ventana de Pygame. Llama a funciones auxiliares para dibujar la cuadrícula, las aristas y el ciclo."
   ]
  },
  {
   "cell_type": "code",
   "execution_count": 6,
   "metadata": {},
   "outputs": [],
   "source": [
    "def dibujar_ventana(nodos, aristas, puntos, ciclo):\n",
    "    VEN.fill(COLOR_FONDO)\n",
    "\n",
    "    dibujar_cuadricula()\n",
    "    dibujar_aristas(nodos, aristas)\n",
    "    dibujar_ciclo(ciclo)\n",
    "\n",
    "    pygame.display.update()"
   ]
  },
  {
   "cell_type": "markdown",
   "metadata": {},
   "source": [
    "## Función para dibujar el Ciclo Hamiltoniano\n",
    "\n",
    "La función \"dibujar_ciclo()\" se encarga de dibujar el ciclo hamiltoniano en la ventana de Pygame. Toma una lista de puntos que representan los nodos en el ciclo y dibuja líneas entre ellos."
   ]
  },
  {
   "cell_type": "code",
   "execution_count": 7,
   "metadata": {},
   "outputs": [],
   "source": [
    "def dibujar_ciclo(puntos):\n",
    "    anterior = puntos[0]\n",
    "    for punto in puntos:\n",
    "        pygame.draw.line(VEN, COLOR_ROJO, [punto[0] * TAMAÑO_BLOQUE + TAMAÑO_BLOQUE // 2, punto[1] * TAMAÑO_BLOQUE + TAMAÑO_BLOQUE // 2], [anterior[0] * TAMAÑO_BLOQUE + TAMAÑO_BLOQUE // 2, anterior[1] * TAMAÑO_BLOQUE + TAMAÑO_BLOQUE // 2], 4)\n",
    "        anterior = punto\n",
    "        reloj.tick(FPS)\n",
    "        pygame.display.update()\n",
    "    pygame.draw.line(VEN, COLOR_ROJO, [puntos[0][0] * TAMAÑO_BLOQUE + TAMAÑO_BLOQUE // 2, puntos[0][1] * TAMAÑO_BLOQUE + TAMAÑO_BLOQUE // 2], [puntos[len(puntos)-1][0] * TAMAÑO_BLOQUE + TAMAÑO_BLOQUE // 2, puntos[len(puntos)-1][1] * TAMAÑO_BLOQUE + TAMAÑO_BLOQUE // 2], 4)"
   ]
  },
  {
   "cell_type": "markdown",
   "metadata": {},
   "source": [
    "## Función para dibujar las aristas\n",
    "\n",
    "La función \"dibujar_aristas()\" se encarga de dibujar las aristas en la ventana de Pygame. Toma una lista de aristas y las dibuja entre los nodos correspondientes en la cuadrícula."
   ]
  },
  {
   "cell_type": "code",
   "execution_count": 8,
   "metadata": {},
   "outputs": [],
   "source": [
    "def dibujar_aristas(nodos, aristas):\n",
    "    for arista in aristas:\n",
    "        for pos_x in range(0, MITAD_X):\n",
    "            for pos_y in range(0, MITAD_Y):\n",
    "                if (nodos[pos_x][pos_y].obtener_numero() == arista[0][0]):\n",
    "                    inicio = nodos[pos_x][pos_y].obtener_pos()\n",
    "                if (nodos[pos_x][pos_y].obtener_numero() == arista[0][1]):\n",
    "                    fin = nodos[pos_x][pos_y].obtener_pos()\n",
    "\n",
    "        color = (160, 160, 160)\n",
    "\n",
    "        pygame.draw.line(VEN, color, [inicio[0] * TAMAÑO_BLOQUE, inicio[1] * TAMAÑO_BLOQUE], [fin[0] * TAMAÑO_BLOQUE, fin[1] * TAMAÑO_BLOQUE], 10)\n",
    "        reloj.tick(FPS)\n",
    "        pygame.display.update()\n",
    "    reloj.tick(10)"
   ]
  },
  {
   "cell_type": "markdown",
   "metadata": {},
   "source": [
    "## Función para crear nodos\n",
    "\n",
    "La función \"crear_nodos()\" genera una matriz de nodos en la cuadrícula. Cada nodo tiene una posición y un número único."
   ]
  },
  {
   "cell_type": "code",
   "execution_count": 9,
   "metadata": {},
   "outputs": [],
   "source": [
    "def crear_nodos():\n",
    "    nodos = [[Nodo((x * 2 + 1, y * 2 + 1), x + y * MITAD_X) for y in range(0, MITAD_Y)] for x in range(0, MITAD_X)]\n",
    "    return nodos "
   ]
  },
  {
   "cell_type": "markdown",
   "metadata": {},
   "source": [
    "## Función para crear aristas\n",
    "\n",
    "La función \"crear_aristas()\" genera aristas aleatorias entre los nodos en la cuadrícula. Devuelve una matriz de aristas donde cada arista tiene un peso aleatorio entre 1 y 3."
   ]
  },
  {
   "cell_type": "code",
   "execution_count": 10,
   "metadata": {},
   "outputs": [],
   "source": [
    "def crear_aristas():\n",
    "    aristas = [[0 for y in range(0, MITAD_Y * MITAD_X)] for x in range(0, MITAD_X * MITAD_Y)]\n",
    "\n",
    "    saltar = [MITAD_X * x for x in range(0, MITAD_Y)]\n",
    "    for x in range(0, MITAD_X * MITAD_Y):\n",
    "        for y in range(0, MITAD_Y * MITAD_X):\n",
    "            if not (x == y):\n",
    "                if (x + 1 == y and y not in saltar): aristas[x][y] = random.randint(1, 3)\n",
    "                elif (x + MITAD_X == y): aristas[x][y] = random.randint(1, 3)\n",
    "\n",
    "    return aristas"
   ]
  },
  {
   "cell_type": "markdown",
   "metadata": {},
   "source": [
    "## Función para encontrar Ciclo Hamiltoniano \n",
    "\n",
    "La función \"ciclo_hamiltoniano()\" encuentra un ciclo hamiltoniano en la cuadrícula utilizando un método simple. Devuelve una lista de puntos que son los nodos en el ciclo y una lista ciclo que representa el camino del ciclo."
   ]
  },
  {
   "cell_type": "code",
   "execution_count": 11,
   "metadata": {},
   "outputs": [],
   "source": [
    "def ciclo_hamiltoniano(nodos, aristas):\n",
    "    puntos = []\n",
    "    for arista in aristas:\n",
    "        for pos_x in range(0, MITAD_X):\n",
    "            for pos_y in range(0, MITAD_Y):\n",
    "                if (nodos[pos_x][pos_y].obtener_numero() == arista[0][0]):\n",
    "                    inicio = nodos[pos_x][pos_y].obtener_pos()\n",
    "                if (nodos[pos_x][pos_y].obtener_numero() == arista[0][1]):\n",
    "                    fin = nodos[pos_x][pos_y].obtener_pos()\n",
    "        puntos.append(inicio)\n",
    "        puntos.append(((inicio[0] + fin [0])//2, (inicio[1]+fin[1])//2))\n",
    "        puntos.append(fin)\n",
    "\n",
    "    ciclo = [(0, 0)]\n",
    "    actual = ciclo[0]\n",
    "    dir = (1, 0)\n",
    "\n",
    "    while len(ciclo) < X * Y:\n",
    "        x = actual[0]\n",
    "        y = actual[1]\n",
    "\n",
    "        if dir == (1, 0):  # Derecha\n",
    "            if (x + dir[0], y + dir[1] + 1) in puntos and (x + 1, y) not in puntos:\n",
    "                actual = (x + dir[0], y + dir[1])\n",
    "            else:\n",
    "                dir = (0, 1) if (x, y + 1) in puntos and (x + 1, y + 1) not in puntos else (0, -1)\n",
    "        elif dir == (0, 1):  # Abajo\n",
    "            if (x + dir[0], y + dir[1]) in puntos and (x + dir[0] + 1, y + dir[1]) not in puntos:\n",
    "                actual = (x + dir[0], y + dir[1])\n",
    "            else:\n",
    "                dir = (1, 0) if (x, y + 1) in puntos and (x + 1, y + 1) in puntos else (-1, 0)\n",
    "        elif dir == (-1, 0):  # Izquierda\n",
    "            if (x, y) in puntos and (x, y + 1) not in puntos:\n",
    "                actual = (x + dir[0], y + dir[1])\n",
    "            else:\n",
    "                dir = (0, -1) if (x, y + 1) not in puntos else (0, 1)\n",
    "        elif dir == (0, -1):  # Arriba\n",
    "            if (x, y) not in puntos and (x + 1, y) in puntos:\n",
    "                actual = (x + dir[0], y + dir[1])\n",
    "            else:\n",
    "                dir = (-1, 0) if (x + 1, y) in puntos else (1, 0)\n",
    "        if actual not in ciclo:\n",
    "            ciclo.append(actual)\n",
    "\n",
    "    return puntos, ciclo"
   ]
  },
  {
   "cell_type": "markdown",
   "metadata": {},
   "source": [
    "## Función para el algoritmo de Prim\n",
    "\n",
    "La función \"algoritmo_prims()\" implementa el algoritmo de Prim para encontrar un árbol de expansión mínima en la cuadrícula. Devuelve una lista de \"aristas_finales\" que representan las aristas del árbol mínimo."
   ]
  },
  {
   "cell_type": "code",
   "execution_count": 12,
   "metadata": {},
   "outputs": [
    {
     "ename": "",
     "evalue": "",
     "output_type": "error",
     "traceback": [
      "\u001b[1;31mThe Kernel crashed while executing code in the current cell or a previous cell. \n",
      "\u001b[1;31mPlease review the code in the cell(s) to identify a possible cause of the failure. \n",
      "\u001b[1;31mClick <a href='https://aka.ms/vscodeJupyterKernelCrash'>here</a> for more info. \n",
      "\u001b[1;31mView Jupyter <a href='command:jupyter.viewOutput'>log</a> for further details."
     ]
    }
   ],
   "source": [
    "def algoritmo_prims(aristas):\n",
    "    aristas_limpios = []\n",
    "    for x in range(0, MITAD_X * MITAD_Y):\n",
    "        for y in range(0, MITAD_Y * MITAD_X):\n",
    "            if not (aristas[x][y] == 0):\n",
    "                aristas_limpios.append(((x, y), aristas[x][y]))\n",
    "    \n",
    "    visitados = []\n",
    "    no_visitados = [x for x in range(MITAD_X * MITAD_Y)]\n",
    "    actual = 0\n",
    "    aristas_finales = []\n",
    "\n",
    "    while len(no_visitados) > 0:\n",
    "        visitados.append(actual)\n",
    "\n",
    "        for number in no_visitados:\n",
    "            if number in visitados:\n",
    "                no_visitados.remove(number)\n",
    "\n",
    "        mis_aristas = []\n",
    "        for arista in aristas_limpios:\n",
    "            if ((arista[0][0] in visitados or arista[0][1] in visitados) and not (arista[0][0] in visitados and arista[0][1] in visitados)):\n",
    "                mis_aristas.append(arista)\n",
    "\n",
    "        min_arista = ((-1, -1), 999)\n",
    "\n",
    "        for arista in mis_aristas:\n",
    "            if (arista[1] < min_arista[1]):\n",
    "                min_arista = arista\n",
    "        \n",
    "        if len(no_visitados) == 0:\n",
    "            break\n",
    "\n",
    "        aristas_finales.append(min_arista)\n",
    "\n",
    "        if min_arista[0][0] == -1:\n",
    "            actual = no_visitados[0]\n",
    "        else:\n",
    "            if (min_arista[0][1] in visitados):\n",
    "                actual = min_arista[0][0]\n",
    "            else:\n",
    "                actual = min_arista[0][1]\n",
    "\n",
    "    return aristas_finales"
   ]
  },
  {
   "cell_type": "markdown",
   "metadata": {},
   "source": [
    "## Ejecución del programa\n",
    "\n",
    "Se llama a la función principal para ejecutar el programa."
   ]
  },
  {
   "cell_type": "code",
   "execution_count": 13,
   "metadata": {},
   "outputs": [],
   "source": [
    "def main():\n",
    "    pygame.display.set_caption(\"Ciclo Hamiltoniano\")\n",
    "     # Esperar a que se presione una tecla\n",
    "    esperando = True\n",
    "    while esperando:\n",
    "        for evento in pygame.event.get():\n",
    "            if evento.type == pygame.KEYDOWN:\n",
    "                esperando = False\n",
    "            if evento.type == pygame.QUIT:\n",
    "                pygame.quit()\n",
    "                return\n",
    "\n",
    "    nodos = crear_nodos()\n",
    "    aristas = crear_aristas()\n",
    "\n",
    "    aristas_finales = algoritmo_prims(aristas)\n",
    "\n",
    "    puntos, ciclo = ciclo_hamiltoniano(nodos, aristas_finales)\n",
    "\n",
    "    dibujar_ventana(nodos, aristas_finales, puntos, ciclo)\n",
    "    \n",
    "    \n",
    "    run = True\n",
    "    while run:\n",
    "        for evento in pygame.event.get():\n",
    "            if evento.type == pygame.QUIT:\n",
    "                run = False\n",
    "        reloj.tick(FPS)\n",
    "        pygame.display.update()\n",
    "\n",
    "    pygame.quit()\n",
    "\n",
    "\n",
    "if __name__ == \"__main__\":\n",
    "    main()"
   ]
  }
 ],
 "metadata": {
  "kernelspec": {
   "display_name": "Python 3 (ipykernel)",
   "language": "python",
   "name": "python3"
  },
  "language_info": {
   "codemirror_mode": {
    "name": "ipython",
    "version": 3
   },
   "file_extension": ".py",
   "mimetype": "text/x-python",
   "name": "python",
   "nbconvert_exporter": "python",
   "pygments_lexer": "ipython3",
   "version": "3.12.2"
  }
 },
 "nbformat": 4,
 "nbformat_minor": 2
}
