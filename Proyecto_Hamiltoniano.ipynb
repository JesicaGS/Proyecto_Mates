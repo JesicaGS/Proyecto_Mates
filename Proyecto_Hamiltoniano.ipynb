{
 "cells": [
  {
   "cell_type": "markdown",
   "metadata": {},
   "source": [
    "<center><span style=\"font-size: 60px;\">Ciclo Hamiltoniano</span><center>"
   ]
  },
  {
   "cell_type": "markdown",
   "metadata": {},
   "source": [
    "Se verá un ciclo hamiltoniano aleatorio en una cuadrícula utilizando la biblioteca Pygame en Python. El ciclo hamiltoniano se genera utilizando el algoritmo de Prim para encontrar un árbol de expansión mínima y luego un algoritmo simple para encontrar el ciclo.\n",
    "\n",
    "**El algoritmo de Prim es un algoritmo clásico de teoría de grafos utilizado para encontrar el árbol de expansión mínima en un grafo conexo y no dirigido(aquel en el que todos los vértices están conectados entre sí y las aristas no tienen una dirección específica). El objetivo del algoritmo es encontrar un subconjunto de aristas que conecten todos los vértices del grafo y que tengan el menor peso posible.**"
   ]
  },
  {
   "cell_type": "markdown",
   "metadata": {},
   "source": [
    "<img src=\"camino.png\" alt=\"Proyecto\" style=\"width: 1300px;; display: block; margin: 0 auto;\"/>"
   ]
  },
  {
   "cell_type": "markdown",
   "metadata": {},
   "source": [
    "## ¿Qué es un Ciclo Hamiltoniano?\n",
    "Camino cerrado que visita cada vértice exactamente una vez y regresa al vértice de partida sin repetir aristas. Es un ciclo que pasa por todos los vértices de un grafo exactamente una vez.\n",
    "\n",
    "## Implementaciones de un Ciclo Hamiltoniano\n",
    " - Circuitos en redes: En aplicaciones de redes y telecomunicaciones, los ciclos Hamiltonianos pueden representar rutas o circuitos que deben pasar por todas las ubicaciones (vértices) de manera eficiente.\n",
    "- Optimización de rutas: En problemas de logística y transporte, encontrar ciclos Hamiltonianos puede ayudar a optimizar rutas de entrega o recolección.\n",
    "- Secuenciación de ADN: En bioinformática, encontrar ciclos Hamiltonianos en grafos que representan secuencias de ADN puede ayudar a identificar estructuras genéticas importantes."
   ]
  },
  {
   "cell_type": "markdown",
   "metadata": {},
   "source": [
    "## Importación de Bibliotecas\n",
    "\n",
    "Aquí importamos las bibliotecas necesarias, \"pygame\" se utiliza para la visualización gráfica y \"random\" para generar aristas aleatorias en la cuadrícula."
   ]
  },
  {
   "cell_type": "code",
   "execution_count": 29,
   "metadata": {},
   "outputs": [],
   "source": [
    "import pygame\n",
    "import random"
   ]
  },
  {
   "cell_type": "markdown",
   "metadata": {},
   "source": [
    "## Inicialización de Pygame\n",
    "\n",
    "Se inicializa Pygame para configurar la ventana y los elementos gráficos."
   ]
  },
  {
   "cell_type": "code",
   "execution_count": 30,
   "metadata": {},
   "outputs": [],
   "source": [
    "pygame.font.init()"
   ]
  },
  {
   "cell_type": "markdown",
   "metadata": {},
   "source": [
    "## Definimos constantes y colores\n",
    "\n",
    "Se definen constantes como el tamaño de la cuadrícula, el tamaño de cada bloque en la cuadrícula, y el tamaño de la ventana de Pygame. También definimos los colores utilizados para el fondo, el ciclo, la cuadrícula y los bordes, también la ventana de visualización."
   ]
  },
  {
   "cell_type": "code",
   "execution_count": 31,
   "metadata": {},
   "outputs": [],
   "source": [
    "# Constantes\n",
    "ANCHO_CELDA, ALTO_CELDA = 50, 28\n",
    "MITAD_ANCHO = ANCHO_CELDA // 2\n",
    "MITAD_ALTO = ALTO_CELDA // 2\n",
    "TAMAÑO_BLOQUE = 32\n",
    "ANCHO_VENTANA, ALTO_VENTANA = ANCHO_CELDA * TAMAÑO_BLOQUE, ALTO_CELDA * TAMAÑO_BLOQUE\n",
    "VENTANA = pygame.display.set_mode((ANCHO_VENTANA, ALTO_VENTANA))\n",
    "\n",
    "# Colores\n",
    "COLOR_FONDO = (255, 223, 240)     # Fondo rosado claro\n",
    "COLOR_TEXTO = (255, 255, 255)     # Texto blanco\n",
    "COLOR_ROJO = (255, 105, 180)      # Rosa fucsia para el ciclo\n",
    "COLOR_NODO = (255, 182, 193)      # Rosa claro para los nodos\n",
    "COLOR_CUADRICULA = (255, 192, 203)# Rosa pastel para la cuadrícula\n",
    "COLOR_BORDE = (160, 160, 160)     # Color gris claro para los bordes\n",
    "\n",
    "FPS = 120\n",
    "\n",
    "reloj = pygame.time.Clock()"
   ]
  },
  {
   "cell_type": "markdown",
   "metadata": {},
   "source": [
    "## Definición de la clase Nodo\n",
    "\n",
    "La clase \"Nodo\" se utiliza para representar cada nodo en la cuadrícula. Cada nodo tiene una posición (\"pos\") y un número único (\"numero\")."
   ]
  },
  {
   "cell_type": "code",
   "execution_count": 32,
   "metadata": {},
   "outputs": [],
   "source": [
    "class Nodo():\n",
    "    def __init__(self, pos, numero):\n",
    "        self.pos = pos\n",
    "        self.numero = numero\n",
    "\n",
    "    def obtener_pos(self):\n",
    "        return self.pos\n",
    "\n",
    "    def obtener_numero(self):\n",
    "        return self.numero"
   ]
  },
  {
   "cell_type": "markdown",
   "metadata": {},
   "source": [
    "## Función para dibujar la cuadrícula\n",
    "\n",
    "Esta función \"dibujar_cuadricula()\" dibuja las líneas de la cuadrícula en la ventana de Pygame."
   ]
  },
  {
   "cell_type": "code",
   "execution_count": 33,
   "metadata": {},
   "outputs": [],
   "source": [
    "def dibujar_cuadricula():\n",
    "    for x in range(1, ANCHO_CELDA):\n",
    "        pygame.draw.line(VENTANA, COLOR_CUADRICULA, (x * TAMAÑO_BLOQUE, 0), (x * TAMAÑO_BLOQUE, ALTO_VENTANA))\n",
    "    for y in range(1, ALTO_CELDA):\n",
    "        pygame.draw.line(VENTANA, COLOR_CUADRICULA, (0, y * TAMAÑO_BLOQUE), (ANCHO_VENTANA, y * TAMAÑO_BLOQUE))"
   ]
  },
  {
   "cell_type": "markdown",
   "metadata": {},
   "source": [
    "## Función para dibujar la ventana completa\n",
    "\n",
    "La función \"dibujar_ventana()\" se encarga de dibujar todos los elementos en la ventana de Pygame. Llama a funciones auxiliares para dibujar la cuadrícula, las aristas y el ciclo."
   ]
  },
  {
   "cell_type": "code",
   "execution_count": 34,
   "metadata": {},
   "outputs": [],
   "source": [
    "def dibujar_ventana(nodos, aristas, puntos, ciclo):\n",
    "    VENTANA.fill(COLOR_FONDO)\n",
    "    dibujar_cuadricula()\n",
    "    dibujar_aristas(nodos, aristas)\n",
    "    dibujar_ciclo(ciclo)\n",
    "    pygame.display.update()"
   ]
  },
  {
   "cell_type": "markdown",
   "metadata": {},
   "source": [
    "## Función para dibujar el Ciclo Hamiltoniano\n",
    "\n",
    "La función \"dibujar_ciclo()\" se encarga de dibujar el ciclo hamiltoniano en la ventana de Pygame. Toma una lista de puntos que representan los nodos en el ciclo y dibuja líneas entre ellos."
   ]
  },
  {
   "cell_type": "code",
   "execution_count": 35,
   "metadata": {},
   "outputs": [],
   "source": [
    "def dibujar_ciclo(puntos):\n",
    "    anterior = puntos[0]\n",
    "    for punto in puntos:\n",
    "        pygame.draw.line(VENTANA, COLOR_ROJO, (punto[0] * TAMAÑO_BLOQUE + TAMAÑO_BLOQUE // 2, punto[1] * TAMAÑO_BLOQUE + TAMAÑO_BLOQUE // 2), \n",
    "                         (anterior[0] * TAMAÑO_BLOQUE + TAMAÑO_BLOQUE // 2, anterior[1] * TAMAÑO_BLOQUE + TAMAÑO_BLOQUE // 2), 4)\n",
    "        anterior = punto\n",
    "        reloj.tick(FPS)\n",
    "        pygame.display.update()\n",
    "    pygame.draw.line(VENTANA, COLOR_ROJO, (puntos[0][0] * TAMAÑO_BLOQUE + TAMAÑO_BLOQUE // 2, puntos[0][1] * TAMAÑO_BLOQUE + TAMAÑO_BLOQUE // 2), \n",
    "                     (puntos[-1][0] * TAMAÑO_BLOQUE + TAMAÑO_BLOQUE // 2, puntos[-1][1] * TAMAÑO_BLOQUE + TAMAÑO_BLOQUE // 2), 4)"
   ]
  },
  {
   "cell_type": "markdown",
   "metadata": {},
   "source": [
    "## Función para dibujar las aristas\n",
    "\n",
    "La función \"dibujar_aristas()\" se encarga de dibujar las aristas en la ventana de Pygame. Toma una lista de aristas y las dibuja entre los nodos correspondientes en la cuadrícula."
   ]
  },
  {
   "cell_type": "code",
   "execution_count": 36,
   "metadata": {},
   "outputs": [],
   "source": [
    "def dibujar_aristas(nodos, aristas):\n",
    "    for arista in aristas:\n",
    "        inicio = None\n",
    "        fin = None\n",
    "        for pos_x in range(MITAD_ANCHO):\n",
    "            for pos_y in range(MITAD_ALTO):\n",
    "                if nodos[pos_x][pos_y].obtener_numero() == arista[0][0]:\n",
    "                    inicio = nodos[pos_x][pos_y].obtener_pos()\n",
    "                if nodos[pos_x][pos_y].obtener_numero() == arista[0][1]:\n",
    "                    fin = nodos[pos_x][pos_y].obtener_pos()\n",
    "        if inicio and fin:\n",
    "            pygame.draw.line(VENTANA, COLOR_BORDE, (inicio[0] * TAMAÑO_BLOQUE, inicio[1] * TAMAÑO_BLOQUE), \n",
    "                             (fin[0] * TAMAÑO_BLOQUE, fin[1] * TAMAÑO_BLOQUE), 10)\n",
    "            reloj.tick(FPS)\n",
    "            pygame.display.update()\n",
    "    reloj.tick(120)\n"
   ]
  },
  {
   "cell_type": "markdown",
   "metadata": {},
   "source": [
    "## Función para crear nodos\n",
    "\n",
    "La función \"crear_nodos()\" genera una matriz de nodos en la cuadrícula. Cada nodo tiene una posición y un número único."
   ]
  },
  {
   "cell_type": "code",
   "execution_count": 37,
   "metadata": {},
   "outputs": [],
   "source": [
    "def crear_nodos():\n",
    "    return [[Nodo((x * 2 + 1, y * 2 + 1), x + y * MITAD_ANCHO) for y in range(MITAD_ALTO)] for x in range(MITAD_ANCHO)]\n"
   ]
  },
  {
   "cell_type": "markdown",
   "metadata": {},
   "source": [
    "## Función para crear aristas\n",
    "\n",
    "La función \"crear_aristas()\" genera aristas aleatorias entre los nodos en la cuadrícula. Devuelve una matriz de aristas donde cada arista tiene un peso aleatorio entre 1 y 3."
   ]
  },
  {
   "cell_type": "code",
   "execution_count": 38,
   "metadata": {},
   "outputs": [],
   "source": [
    "def crear_aristas():\n",
    "    aristas = [[0 for _ in range(MITAD_ALTO * MITAD_ANCHO)] for _ in range(MITAD_ANCHO * MITAD_ALTO)]\n",
    "    saltar = [MITAD_ANCHO * x for x in range(MITAD_ANCHO)]\n",
    "    for x in range(MITAD_ANCHO * MITAD_ALTO):\n",
    "        for y in range(MITAD_ALTO * MITAD_ANCHO):\n",
    "            if x != y:\n",
    "                if x + 1 == y and y not in saltar:\n",
    "                    aristas[x][y] = random.randint(1, 3)\n",
    "                elif x + MITAD_ANCHO == y:\n",
    "                    aristas[x][y] = random.randint(1, 3)\n",
    "    return aristas"
   ]
  },
  {
   "cell_type": "markdown",
   "metadata": {},
   "source": [
    "## Función para encontrar Ciclo Hamiltoniano \n",
    "\n",
    "La función \"ciclo_hamiltoniano()\" encuentra un ciclo hamiltoniano en la cuadrícula utilizando un método simple. Devuelve una lista de puntos que son los nodos en el ciclo y una lista ciclo que representa el camino del ciclo."
   ]
  },
  {
   "cell_type": "code",
   "execution_count": 39,
   "metadata": {},
   "outputs": [],
   "source": [
    "def ciclo_hamiltoniano(nodos, aristas):\n",
    "    puntos = []\n",
    "    for arista in aristas:\n",
    "        inicio = None\n",
    "        fin = None\n",
    "        for pos_x in range(MITAD_ANCHO):\n",
    "            for pos_y in range(MITAD_ALTO):\n",
    "                if nodos[pos_x][pos_y].obtener_numero() == arista[0][0]:\n",
    "                    inicio = nodos[pos_x][pos_y].obtener_pos()\n",
    "                if nodos[pos_x][pos_y].obtener_numero() == arista[0][1]:\n",
    "                    fin = nodos[pos_x][pos_y].obtener_pos()\n",
    "        if inicio and fin:\n",
    "            puntos.append(inicio)\n",
    "            puntos.append(((inicio[0] + fin[0]) // 2, (inicio[1] + fin[1]) // 2))\n",
    "            puntos.append(fin)\n",
    "\n",
    "    ciclo = [(0, 0)]\n",
    "    actual = ciclo[0]\n",
    "    direccion = (1, 0)\n",
    "\n",
    "    while len(ciclo) < ANCHO_CELDA * ALTO_CELDA:\n",
    "        x, y = actual\n",
    "        if direccion == (1, 0):  # Derecha\n",
    "            if (x + direccion[0], y + direccion[1] + 1) in puntos and (x + 1, y) not in puntos:\n",
    "                actual = (x + direccion[0], y + direccion[1])\n",
    "            else:\n",
    "                direccion = (0, 1) if (x, y + 1) in puntos and (x + 1, y + 1) not in puntos else (0, -1)\n",
    "        elif direccion == (0, 1):  # Abajo\n",
    "            if (x + direccion[0], y + direccion[1]) in puntos and (x + direccion[0] + 1, y + direccion[1]) not in puntos:\n",
    "                actual = (x + direccion[0], y + direccion[1])\n",
    "            else:\n",
    "                direccion = (1, 0) if (x, y + 1) in puntos and (x + 1, y + 1) in puntos else (-1, 0)\n",
    "        elif direccion == (-1, 0):  # Izquierda\n",
    "            if (x, y) in puntos and (x, y + 1) not in puntos:\n",
    "                actual = (x + direccion[0], y + direccion[1])\n",
    "            else:\n",
    "                direccion = (0, -1) if (x, y + 1) not in puntos else (0, 1)\n",
    "        elif direccion == (0, -1):  # Arriba\n",
    "            if (x, y) not in puntos and (x + 1, y) in puntos:\n",
    "                actual = (x + direccion[0], y + direccion[1])\n",
    "            else:\n",
    "                direccion = (-1, 0) if (x + 1, y) in puntos else (1, 0)\n",
    "        if actual not in ciclo:\n",
    "            ciclo.append(actual)\n",
    "\n",
    "    return puntos, ciclo"
   ]
  },
  {
   "cell_type": "markdown",
   "metadata": {},
   "source": [
    "## Función para el algoritmo de Prim\n",
    "\n",
    "La función \"algoritmo_prims()\" implementa el algoritmo de Prim para encontrar un árbol de expansión mínima en la cuadrícula. Devuelve una lista de \"aristas_finales\" que representan las aristas del árbol mínimo."
   ]
  },
  {
   "cell_type": "code",
   "execution_count": 40,
   "metadata": {},
   "outputs": [],
   "source": [
    "def algoritmo_prims(aristas):\n",
    "    aristas_limpias = [((x, y), aristas[x][y]) for x in range(MITAD_ANCHO * MITAD_ALTO) for y in range(MITAD_ALTO * MITAD_ANCHO) if aristas[x][y] != 0]\n",
    "    visitados = []\n",
    "    no_visitados = list(range(MITAD_ANCHO * MITAD_ALTO))\n",
    "    actual = 0\n",
    "    aristas_finales = []\n",
    "\n",
    "    while no_visitados:\n",
    "        visitados.append(actual)\n",
    "        no_visitados = [n for n in no_visitados if n not in visitados]\n",
    "\n",
    "        mis_aristas = [arista for arista in aristas_limpias if (arista[0][0] in visitados or arista[0][1] in visitados) and not (arista[0][0] in visitados and arista[0][1] in visitados)]\n",
    "        arista_minima = min(mis_aristas, key=lambda arista: arista[1], default=((0, 0), 999))\n",
    "\n",
    "        if not mis_aristas:  # Si no hay aristas, romper el bucle\n",
    "            break\n",
    "\n",
    "        aristas_finales.append(arista_minima)\n",
    "        actual = arista_minima[0][0] if arista_minima[0][1] in visitados else arista_minima[0][1]\n",
    "\n",
    "    return aristas_finales"
   ]
  },
  {
   "cell_type": "markdown",
   "metadata": {},
   "source": [
    "## Función poner ventana en primer plano\n",
    "\n",
    "Esta función coloca la ventana de Pygame en primer plano usando ctypes."
   ]
  },
  {
   "cell_type": "code",
   "execution_count": 41,
   "metadata": {},
   "outputs": [],
   "source": [
    "def principal():\n",
    "    pygame.display.set_caption(\"Ciclo Hamiltoniano\")\n",
    "    \n",
    "    # Esperar a que se presione una tecla\n",
    "    esperando = True\n",
    "    while esperando:\n",
    "        for evento in pygame.event.get():\n",
    "            if evento.type == pygame.KEYDOWN:\n",
    "                esperando = False\n",
    "            if evento.type == pygame.QUIT:\n",
    "                pygame.quit()\n",
    "                return\n",
    "\n",
    "    nodos = crear_nodos()\n",
    "    aristas = crear_aristas()\n",
    "    aristas_finales = algoritmo_prims(aristas)\n",
    "    puntos, ciclo = ciclo_hamiltoniano(nodos, aristas_finales)\n",
    "\n",
    "    dibujar_ventana(nodos, aristas_finales, puntos, ciclo)\n",
    "\n",
    "    ejecutando = True\n",
    "    while ejecutando:\n",
    "        for evento in pygame.event.get():\n",
    "            if evento.type == pygame.QUIT:\n",
    "                ejecutando = False\n",
    "\n",
    "    pygame.quit()"
   ]
  },
  {
   "cell_type": "markdown",
   "metadata": {},
   "source": [
    "## Ejecución del programa\n",
    "\n",
    "Se llama a la función principal para ejecutar el programa."
   ]
  },
  {
   "cell_type": "code",
   "execution_count": 42,
   "metadata": {},
   "outputs": [],
   "source": [
    "principal()"
   ]
  }
 ],
 "metadata": {
  "kernelspec": {
   "display_name": "Python 3 (ipykernel)",
   "language": "python",
   "name": "python3"
  },
  "language_info": {
   "codemirror_mode": {
    "name": "ipython",
    "version": 3
   },
   "file_extension": ".py",
   "mimetype": "text/x-python",
   "name": "python",
   "nbconvert_exporter": "python",
   "pygments_lexer": "ipython3",
   "version": "3.11.5"
  }
 },
 "nbformat": 4,
 "nbformat_minor": 2
}
