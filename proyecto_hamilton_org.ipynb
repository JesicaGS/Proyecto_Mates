{
 "cells": [
  {
   "cell_type": "code",
   "execution_count": 1,
   "metadata": {},
   "outputs": [
    {
     "name": "stdout",
     "output_type": "stream",
     "text": [
      "pygame 2.5.2 (SDL 2.28.3, Python 3.12.2)\n",
      "Hello from the pygame community. https://www.pygame.org/contribute.html\n"
     ]
    }
   ],
   "source": [
    "import pygame\n",
    "import random"
   ]
  },
  {
   "cell_type": "code",
   "execution_count": 2,
   "metadata": {},
   "outputs": [],
   "source": [
    "pygame.font.init()"
   ]
  },
  {
   "cell_type": "code",
   "execution_count": 3,
   "metadata": {},
   "outputs": [],
   "source": [
    "X, Y = 50, 28\n",
    "MITAD_X = X//2\n",
    "MITAD_Y = Y//2\n",
    "TAMAÑO_BLOQUE = 32\n",
    "ANCHO, ALTURA = X * TAMAÑO_BLOQUE, Y * TAMAÑO_BLOQUE\n",
    "VEN = pygame.display.set_mode((ANCHO, ALTURA)) \n",
    "\n",
    "FONT = pygame.font.SysFont(\"consolas\", 20)\n",
    "\n",
    "COLOR_FONDO = (255, 223, 240)     # BG COLOR\n",
    "COLOR_TEXTO = (255, 255, 255)     # TexT\n",
    "COLOR_ROJO = (255, 105, 180)      # RED\n",
    "COLOR_NODO = (255, 182, 193)      # NODE\n",
    "COLOR_CUADRICULA = (255, 192, 203)# Rosa pastel para la cuadrícula\n",
    "\n",
    "FPS = 40\n",
    "\n",
    "reloj = pygame.time.Clock()"
   ]
  },
  {
   "cell_type": "code",
   "execution_count": 4,
   "metadata": {},
   "outputs": [],
   "source": [
    "class Nodo():\n",
    "    def __init__(self, pos, numero):\n",
    "        self.pos = pos\n",
    "        self.numero = numero\n",
    "\n",
    "    def obtener_pos(self):\n",
    "        return self.pos\n",
    "\n",
    "    def obtener_numero(self):\n",
    "        return self.numero"
   ]
  },
  {
   "cell_type": "code",
   "execution_count": 5,
   "metadata": {},
   "outputs": [],
   "source": [
    "def dibujar_cuadricula():\n",
    "    for x in range(1, X):\n",
    "        pygame.draw.line(VEN, COLOR_CUADRICULA, [x * TAMAÑO_BLOQUE, 0], [x * TAMAÑO_BLOQUE, Y * TAMAÑO_BLOQUE])\n",
    "    for y in range(1, Y):\n",
    "        pygame.draw.line(VEN, COLOR_CUADRICULA, [0, y * TAMAÑO_BLOQUE], [X * TAMAÑO_BLOQUE, y * TAMAÑO_BLOQUE])"
   ]
  },
  {
   "cell_type": "code",
   "execution_count": 6,
   "metadata": {},
   "outputs": [],
   "source": [
    "def dibujar_ventana(nodos, aristas, puntos, ciclo):\n",
    "    VEN.fill(COLOR_FONDO)\n",
    "\n",
    "    dibujar_cuadricula()\n",
    "    dibujar_aristas(nodos, aristas)\n",
    "    dibujar_ciclo(ciclo)\n",
    "\n",
    "    pygame.display.update()"
   ]
  },
  {
   "cell_type": "code",
   "execution_count": 7,
   "metadata": {},
   "outputs": [],
   "source": [
    "def dibujar_ciclo(puntos):\n",
    "    anterior = puntos[0]\n",
    "    for punto in puntos:\n",
    "        pygame.draw.line(VEN, COLOR_ROJO, [punto[0] * TAMAÑO_BLOQUE + TAMAÑO_BLOQUE // 2, punto[1] * TAMAÑO_BLOQUE + TAMAÑO_BLOQUE // 2], [anterior[0] * TAMAÑO_BLOQUE + TAMAÑO_BLOQUE // 2, anterior[1] * TAMAÑO_BLOQUE + TAMAÑO_BLOQUE // 2], 4)\n",
    "        anterior = punto\n",
    "        reloj.tick(FPS)\n",
    "        pygame.display.update()\n",
    "    pygame.draw.line(VEN, COLOR_ROJO, [puntos[0][0] * TAMAÑO_BLOQUE + TAMAÑO_BLOQUE // 2, puntos[0][1] * TAMAÑO_BLOQUE + TAMAÑO_BLOQUE // 2], [puntos[len(puntos)-1][0] * TAMAÑO_BLOQUE + TAMAÑO_BLOQUE // 2, puntos[len(puntos)-1][1] * TAMAÑO_BLOQUE + TAMAÑO_BLOQUE // 2], 4)"
   ]
  },
  {
   "cell_type": "code",
   "execution_count": 8,
   "metadata": {},
   "outputs": [],
   "source": [
    "def dibujar_aristas(nodos, aristas):\n",
    "    for arista in aristas:\n",
    "        for pos_x in range(0, MITAD_X):\n",
    "            for pos_y in range(0, MITAD_Y):\n",
    "                if (nodos[pos_x][pos_y].obtener_numero() == arista[0][0]):\n",
    "                    inicio = nodos[pos_x][pos_y].obtener_pos()\n",
    "                if (nodos[pos_x][pos_y].obtener_numero() == arista[0][1]):\n",
    "                    fin = nodos[pos_x][pos_y].obtener_pos()\n",
    "\n",
    "        color = (160, 160, 160)\n",
    "\n",
    "        pygame.draw.line(VEN, color, [inicio[0] * TAMAÑO_BLOQUE, inicio[1] * TAMAÑO_BLOQUE], [fin[0] * TAMAÑO_BLOQUE, fin[1] * TAMAÑO_BLOQUE], 10)\n",
    "        reloj.tick(FPS)\n",
    "        pygame.display.update()\n",
    "    reloj.tick(10)"
   ]
  },
  {
   "cell_type": "code",
   "execution_count": 9,
   "metadata": {},
   "outputs": [],
   "source": [
    "def dibujar_aristas(nodos, aristas):\n",
    "    for arista in aristas:\n",
    "        for pos_x in range(0, MITAD_X):\n",
    "            for pos_y in range(0, MITAD_Y):\n",
    "                if (nodos[pos_x][pos_y].obtener_numero() == arista[0][0]):\n",
    "                    inicio = nodos[pos_x][pos_y].obtener_pos()\n",
    "                if (nodos[pos_x][pos_y].obtener_numero() == arista[0][1]):\n",
    "                    fin = nodos[pos_x][pos_y].obtener_pos()\n",
    "\n",
    "        color = (160, 160, 160)\n",
    "\n",
    "        pygame.draw.line(VEN, color, [inicio[0] * TAMAÑO_BLOQUE, inicio[1] * TAMAÑO_BLOQUE], [fin[0] * TAMAÑO_BLOQUE, fin[1] * TAMAÑO_BLOQUE], 10)\n",
    "        reloj.tick(FPS)\n",
    "        pygame.display.update()\n",
    "    reloj.tick(10)"
   ]
  },
  {
   "cell_type": "code",
   "execution_count": 10,
   "metadata": {},
   "outputs": [],
   "source": [
    "def crear_nodos():\n",
    "    nodos = [[Nodo((x * 2 + 1, y * 2 + 1), x + y * MITAD_X) for y in range(0, MITAD_Y)] for x in range(0, MITAD_X)]\n",
    "    return nodos "
   ]
  },
  {
   "cell_type": "code",
   "execution_count": 11,
   "metadata": {},
   "outputs": [],
   "source": [
    "def crear_aristas():\n",
    "    aristas = [[0 for y in range(0, MITAD_Y * MITAD_X)] for x in range(0, MITAD_X * MITAD_Y)]\n",
    "\n",
    "    saltar = [MITAD_X * x for x in range(0, MITAD_Y)]\n",
    "    for x in range(0, MITAD_X * MITAD_Y):\n",
    "        for y in range(0, MITAD_Y * MITAD_X):\n",
    "            if not (x == y):\n",
    "                if (x + 1 == y and y not in saltar): aristas[x][y] = random.randint(1, 3)\n",
    "                elif (x + MITAD_X == y): aristas[x][y] = random.randint(1, 3)\n",
    "\n",
    "    return aristas"
   ]
  },
  {
   "cell_type": "code",
   "execution_count": 12,
   "metadata": {},
   "outputs": [],
   "source": [
    "def ciclo_hamiltoniano(nodos, aristas):\n",
    "    puntos = []\n",
    "    for arista in aristas:\n",
    "        for pos_x in range(0, MITAD_X):\n",
    "            for pos_y in range(0, MITAD_Y):\n",
    "                if (nodos[pos_x][pos_y].obtener_numero() == arista[0][0]):\n",
    "                    inicio = nodos[pos_x][pos_y].obtener_pos()\n",
    "                if (nodos[pos_x][pos_y].obtener_numero() == arista[0][1]):\n",
    "                    fin = nodos[pos_x][pos_y].obtener_pos()\n",
    "        puntos.append(inicio)\n",
    "        puntos.append(((inicio[0] + fin [0])//2, (inicio[1]+fin[1])//2))\n",
    "        puntos.append(fin)\n",
    "\n",
    "    ciclo = [(0, 0)]\n",
    "    actual = ciclo[0]\n",
    "    dir = (1, 0)\n",
    "\n",
    "    while len(ciclo) < X * Y:\n",
    "        x = actual[0]\n",
    "        y = actual[1]\n",
    "\n",
    "        if dir == (1, 0):  # Derecha\n",
    "            if (x + dir[0], y + dir[1] + 1) in puntos and (x + 1, y) not in puntos:\n",
    "                actual = (x + dir[0], y + dir[1])\n",
    "            else:\n",
    "                dir = (0, 1) if (x, y + 1) in puntos and (x + 1, y + 1) not in puntos else (0, -1)\n",
    "        elif dir == (0, 1):  # Abajo\n",
    "            if (x + dir[0], y + dir[1]) in puntos and (x + dir[0] + 1, y + dir[1]) not in puntos:\n",
    "                actual = (x + dir[0], y + dir[1])\n",
    "            else:\n",
    "                dir = (1, 0) if (x, y + 1) in puntos and (x + 1, y + 1) in puntos else (-1, 0)\n",
    "        elif dir == (-1, 0):  # Izquierda\n",
    "            if (x, y) in puntos and (x, y + 1) not in puntos:\n",
    "                actual = (x + dir[0], y + dir[1])\n",
    "            else:\n",
    "                dir = (0, -1) if (x, y + 1) not in puntos else (0, 1)\n",
    "        elif dir == (0, -1):  # Arriba\n",
    "            if (x, y) not in puntos and (x + 1, y) in puntos:\n",
    "                actual = (x + dir[0], y + dir[1])\n",
    "            else:\n",
    "                dir = (-1, 0) if (x + 1, y) in puntos else (1, 0)\n",
    "        if actual not in ciclo:\n",
    "            ciclo.append(actual)\n",
    "\n",
    "    return puntos, ciclo"
   ]
  },
  {
   "cell_type": "code",
   "execution_count": 13,
   "metadata": {},
   "outputs": [
    {
     "ename": "",
     "evalue": "",
     "output_type": "error",
     "traceback": [
      "\u001b[1;31mThe Kernel crashed while executing code in the current cell or a previous cell. \n",
      "\u001b[1;31mPlease review the code in the cell(s) to identify a possible cause of the failure. \n",
      "\u001b[1;31mClick <a href='https://aka.ms/vscodeJupyterKernelCrash'>here</a> for more info. \n",
      "\u001b[1;31mView Jupyter <a href='command:jupyter.viewOutput'>log</a> for further details."
     ]
    }
   ],
   "source": [
    "def algoritmo_prims(aristas):\n",
    "    aristas_limpios = []\n",
    "    for x in range(0, MITAD_X * MITAD_Y):\n",
    "        for y in range(0, MITAD_Y * MITAD_X):\n",
    "            if not (aristas[x][y] == 0):\n",
    "                aristas_limpios.append(((x, y), aristas[x][y]))\n",
    "    \n",
    "    visitados = []\n",
    "    no_visitados = [x for x in range(MITAD_X * MITAD_Y)]\n",
    "    actual = 0\n",
    "    aristas_finales = []\n",
    "\n",
    "    while len(no_visitados) > 0:\n",
    "        visitados.append(actual)\n",
    "\n",
    "        for number in no_visitados:\n",
    "            if number in visitados:\n",
    "                no_visitados.remove(number)\n",
    "\n",
    "        mis_aristas = []\n",
    "        for arista in aristas_limpios:\n",
    "            if ((arista[0][0] in visitados or arista[0][1] in visitados) and not (arista[0][0] in visitados and arista[0][1] in visitados)):\n",
    "                mis_aristas.append(arista)\n",
    "\n",
    "        min_arista = ((-1, -1), 999)\n",
    "\n",
    "        for arista in mis_aristas:\n",
    "            if (arista[1] < min_arista[1]):\n",
    "                min_arista = arista\n",
    "        \n",
    "        if len(no_visitados) == 0:\n",
    "            break\n",
    "\n",
    "        aristas_finales.append(min_arista)\n",
    "\n",
    "        if min_arista[0][0] == -1:\n",
    "            actual = no_visitados[0]\n",
    "        else:\n",
    "            if (min_arista[0][1] in visitados):\n",
    "                actual = min_arista[0][0]\n",
    "            else:\n",
    "                actual = min_arista[0][1]\n",
    "\n",
    "    return aristas_finales"
   ]
  },
  {
   "cell_type": "code",
   "execution_count": 14,
   "metadata": {},
   "outputs": [],
   "source": [
    "def main():\n",
    "    pygame.display.set_caption(\"Ciclo Hamiltoniano\")\n",
    "    \n",
    "    nodos = crear_nodos()\n",
    "    aristas = crear_aristas()\n",
    "\n",
    "    aristas_finales = algoritmo_prims(aristas)\n",
    "\n",
    "    puntos, ciclo = ciclo_hamiltoniano(nodos, aristas_finales)\n",
    "\n",
    "    dibujar_ventana(nodos, aristas_finales, puntos, ciclo)\n",
    "\n",
    "    main()\n",
    "\n",
    "    run = True\n",
    "    while run:\n",
    "        for evento in pygame.event.get():\n",
    "            if evento.type == pygame.QUIT:\n",
    "                run = False\n",
    "\n",
    "    pygame.quit()\n",
    "\n",
    "main()"
   ]
  }
 ],
 "metadata": {
  "kernelspec": {
   "display_name": "Python 3",
   "language": "python",
   "name": "python3"
  },
  "language_info": {
   "codemirror_mode": {
    "name": "ipython",
    "version": 3
   },
   "file_extension": ".py",
   "mimetype": "text/x-python",
   "name": "python",
   "nbconvert_exporter": "python",
   "pygments_lexer": "ipython3",
   "version": "3.12.2"
  }
 },
 "nbformat": 4,
 "nbformat_minor": 2
}
